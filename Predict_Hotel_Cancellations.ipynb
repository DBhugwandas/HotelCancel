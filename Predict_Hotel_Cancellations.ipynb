{
  "nbformat": 4,
  "nbformat_minor": 0,
  "metadata": {
    "kernelspec": {
      "display_name": "Python 3",
      "language": "python",
      "name": "python3"
    },
    "language_info": {
      "codemirror_mode": {
        "name": "ipython",
        "version": 3
      },
      "file_extension": ".py",
      "mimetype": "text/x-python",
      "name": "python",
      "nbconvert_exporter": "python",
      "pygments_lexer": "ipython3",
      "version": "3.6.0"
    },
    "colab": {
      "name": "Predict Hotel Cancellations.ipynb",
      "provenance": [],
      "toc_visible": true,
      "include_colab_link": true
    }
  },
  "cells": [
    {
      "cell_type": "markdown",
      "metadata": {
        "id": "view-in-github",
        "colab_type": "text"
      },
      "source": [
        "<a href=\"https://colab.research.google.com/github/DBhugwandas/HotelCancel/blob/master/Predict_Hotel_Cancellations.ipynb\" target=\"_parent\"><img src=\"https://colab.research.google.com/assets/colab-badge.svg\" alt=\"Open In Colab\"/></a>"
      ]
    },
    {
      "cell_type": "code",
      "metadata": {
        "id": "kOIpeWJ6MtTH",
        "colab_type": "code",
        "colab": {}
      },
      "source": [
        "import pandas as pd\n",
        "import numpy as np\n",
        "import matplotlib.pyplot as plt\n",
        "%matplotlib inline\n",
        "np.random.seed(10)"
      ],
      "execution_count": 4,
      "outputs": []
    },
    {
      "cell_type": "code",
      "metadata": {
        "id": "4BwE7-gvNP3X",
        "colab_type": "code",
        "colab": {
          "base_uri": "https://localhost:8080/",
          "height": 510
        },
        "outputId": "fc4a402e-0bff-4169-b479-d80dac7fe9e2"
      },
      "source": [
        "!pip install optuna\n",
        "import optuna"
      ],
      "execution_count": 5,
      "outputs": [
        {
          "output_type": "stream",
          "text": [
            "Requirement already satisfied: optuna in /usr/local/lib/python3.6/dist-packages (2.0.0)\n",
            "Requirement already satisfied: cliff in /usr/local/lib/python3.6/dist-packages (from optuna) (3.4.0)\n",
            "Requirement already satisfied: colorlog in /usr/local/lib/python3.6/dist-packages (from optuna) (4.2.1)\n",
            "Requirement already satisfied: sqlalchemy>=1.1.0 in /usr/local/lib/python3.6/dist-packages (from optuna) (1.3.18)\n",
            "Requirement already satisfied: tqdm in /usr/local/lib/python3.6/dist-packages (from optuna) (4.41.1)\n",
            "Requirement already satisfied: packaging in /usr/local/lib/python3.6/dist-packages (from optuna) (20.4)\n",
            "Requirement already satisfied: cmaes>=0.5.1 in /usr/local/lib/python3.6/dist-packages (from optuna) (0.6.0)\n",
            "Requirement already satisfied: numpy in /usr/local/lib/python3.6/dist-packages (from optuna) (1.18.5)\n",
            "Requirement already satisfied: scipy!=1.4.0 in /usr/local/lib/python3.6/dist-packages (from optuna) (1.4.1)\n",
            "Requirement already satisfied: alembic in /usr/local/lib/python3.6/dist-packages (from optuna) (1.4.2)\n",
            "Requirement already satisfied: joblib in /usr/local/lib/python3.6/dist-packages (from optuna) (0.16.0)\n",
            "Requirement already satisfied: cmd2!=0.8.3,>=0.8.0 in /usr/local/lib/python3.6/dist-packages (from cliff->optuna) (1.3.3)\n",
            "Requirement already satisfied: pbr!=2.1.0,>=2.0.0 in /usr/local/lib/python3.6/dist-packages (from cliff->optuna) (5.4.5)\n",
            "Requirement already satisfied: PrettyTable<0.8,>=0.7.2 in /usr/local/lib/python3.6/dist-packages (from cliff->optuna) (0.7.2)\n",
            "Requirement already satisfied: stevedore>=2.0.1 in /usr/local/lib/python3.6/dist-packages (from cliff->optuna) (3.2.0)\n",
            "Requirement already satisfied: six>=1.10.0 in /usr/local/lib/python3.6/dist-packages (from cliff->optuna) (1.15.0)\n",
            "Requirement already satisfied: pyparsing>=2.1.0 in /usr/local/lib/python3.6/dist-packages (from cliff->optuna) (2.4.7)\n",
            "Requirement already satisfied: PyYAML>=3.12 in /usr/local/lib/python3.6/dist-packages (from cliff->optuna) (3.13)\n",
            "Requirement already satisfied: python-dateutil in /usr/local/lib/python3.6/dist-packages (from alembic->optuna) (2.8.1)\n",
            "Requirement already satisfied: python-editor>=0.3 in /usr/local/lib/python3.6/dist-packages (from alembic->optuna) (1.0.4)\n",
            "Requirement already satisfied: Mako in /usr/local/lib/python3.6/dist-packages (from alembic->optuna) (1.1.3)\n",
            "Requirement already satisfied: wcwidth>=0.1.7 in /usr/local/lib/python3.6/dist-packages (from cmd2!=0.8.3,>=0.8.0->cliff->optuna) (0.2.5)\n",
            "Requirement already satisfied: pyperclip>=1.6 in /usr/local/lib/python3.6/dist-packages (from cmd2!=0.8.3,>=0.8.0->cliff->optuna) (1.8.0)\n",
            "Requirement already satisfied: importlib-metadata>=1.6.0; python_version < \"3.8\" in /usr/local/lib/python3.6/dist-packages (from cmd2!=0.8.3,>=0.8.0->cliff->optuna) (1.7.0)\n",
            "Requirement already satisfied: attrs>=16.3.0 in /usr/local/lib/python3.6/dist-packages (from cmd2!=0.8.3,>=0.8.0->cliff->optuna) (19.3.0)\n",
            "Requirement already satisfied: colorama>=0.3.7 in /usr/local/lib/python3.6/dist-packages (from cmd2!=0.8.3,>=0.8.0->cliff->optuna) (0.4.3)\n",
            "Requirement already satisfied: setuptools>=34.4 in /usr/local/lib/python3.6/dist-packages (from cmd2!=0.8.3,>=0.8.0->cliff->optuna) (49.2.0)\n",
            "Requirement already satisfied: MarkupSafe>=0.9.2 in /usr/local/lib/python3.6/dist-packages (from Mako->alembic->optuna) (1.1.1)\n",
            "Requirement already satisfied: zipp>=0.5 in /usr/local/lib/python3.6/dist-packages (from importlib-metadata>=1.6.0; python_version < \"3.8\"->cmd2!=0.8.3,>=0.8.0->cliff->optuna) (3.1.0)\n"
          ],
          "name": "stdout"
        }
      ]
    },
    {
      "cell_type": "code",
      "metadata": {
        "id": "mTGXHtUiMtTO",
        "colab_type": "code",
        "colab": {}
      },
      "source": [
        "df = pd.read_csv('hotel_bookings.csv')"
      ],
      "execution_count": 6,
      "outputs": []
    },
    {
      "cell_type": "code",
      "metadata": {
        "scrolled": true,
        "id": "Sy3-8621MtTU",
        "colab_type": "code",
        "colab": {
          "base_uri": "https://localhost:8080/",
          "height": 262
        },
        "outputId": "37a3ab31-f21c-46b3-cfd5-7ed4d1d52f89"
      },
      "source": [
        "#Handling Missing Values\n",
        "df.isnull().sum()\n",
        "\n",
        "#%of values missing\n",
        "df.isnull().sum()/df.shape[0]\n",
        "\n",
        "#Does company have an impact on the cancelled indicatior (target)\n",
        "f1 = plt.subplot(1, 2, 1)\n",
        "(df[df['country'].isnull()].is_canceled.value_counts()/(421+67)).plot.bar()\n",
        "f2 = plt.subplot(1, 2, 2)\n",
        "(df[df['country'].notnull()].is_canceled.value_counts()/118902).plot.bar()\n",
        "plt.show()"
      ],
      "execution_count": 7,
      "outputs": [
        {
          "output_type": "display_data",
          "data": {
            "image/png": "[encoded data removed]",
            "text/plain": [
              "<Figure size 432x288 with 2 Axes>"
            ]
          },
          "metadata": {
            "tags": [],
            "needs_background": "light"
          }
        }
      ]
    },
    {
      "cell_type": "code",
      "metadata": {
        "id": "8bqHdByTMtTa",
        "colab_type": "code",
        "colab": {}
      },
      "source": [
        ""
      ],
      "execution_count": 7,
      "outputs": []
    },
    {
      "cell_type": "code",
      "metadata": {
        "id": "cIHl0rjHMtTe",
        "colab_type": "code",
        "colab": {}
      },
      "source": [
        "#It does appear that cancellation rates are much lower where country variable is missing\n",
        "#Encode Country variable that is missing to its own category\n",
        "df['missing_country'] = np.where(df.country.isnull() == True,1,0)"
      ],
      "execution_count": 8,
      "outputs": []
    },
    {
      "cell_type": "code",
      "metadata": {
        "id": "VNMzVrcyMtTj",
        "colab_type": "code",
        "colab": {
          "base_uri": "https://localhost:8080/",
          "height": 262
        },
        "outputId": "329dc4f8-2e76-4db9-f33e-7603ba5d9eed"
      },
      "source": [
        "#Agent Missing Field\n",
        "f1 = plt.subplot(1, 2, 1)\n",
        "(df[df['agent'].isnull()].is_canceled.value_counts()/(df[df['agent'].isnull()].is_canceled.value_counts().sum())).plot.bar()\n",
        "f2 = plt.subplot(1, 2, 2)\n",
        "(df[df['agent'].notnull()].is_canceled.value_counts()/df[df['agent'].notnull()].is_canceled.value_counts().sum()).plot.bar()\n",
        "plt.show()\n",
        "\n",
        "#Seems like lower cancellations where agent is missing -- Lets encode that into it's own category\n",
        "df['missing_agent'] = np.where(df.agent.isnull() == True,1,0)\n",
        "#Replacing with -1\n",
        "df.agent.fillna(-1,inplace=True)\n"
      ],
      "execution_count": 9,
      "outputs": [
        {
          "output_type": "display_data",
          "data": {
            "image/png": "[encoded data removed]",
            "text/plain": [
              "<Figure size 432x288 with 2 Axes>"
            ]
          },
          "metadata": {
            "tags": [],
            "needs_background": "light"
          }
        }
      ]
    },
    {
      "cell_type": "code",
      "metadata": {
        "id": "v5z8ZFAHMtTn",
        "colab_type": "code",
        "colab": {}
      },
      "source": [
        "#Encoding missing category to it's own variable and deleting the existing column\n",
        "df['company_present'] = np.where(df.company.isnull()==True,1,0)\n",
        "df.drop('company',axis=1,inplace=True)\n"
      ],
      "execution_count": 10,
      "outputs": []
    },
    {
      "cell_type": "code",
      "metadata": {
        "scrolled": true,
        "id": "JPDkWQYmMtTt",
        "colab_type": "code",
        "colab": {}
      },
      "source": [
        "ones = df.country.value_counts() < 10\n",
        "ones[ones==True].sum()\n",
        "\n",
        "#In the country variable, many countries with only a small number of bookings.\n",
        "#Therefore to encode these we can employ top N encoding\n",
        "#Encoding the top 95% of countries and the rest classified as other\n",
        "\n",
        "country_count = df.country.value_counts().sort_values(ascending=False).cumsum()/df.country.value_counts().sum()\n",
        "top_country = country_count[country_count <= 0.97]\n",
        "top_country.count()\n",
        "\n",
        "#So now we have 29 countries, from the intial list of 170 countries\n",
        "#We can encode them as follows\n",
        "\n",
        "for cols in top_country.index:\n",
        "    df[\"country_\"+cols] = np.where(df.country == cols,1,0)\n",
        "    \n",
        "df.drop('country',axis=1,inplace=True)"
      ],
      "execution_count": 11,
      "outputs": []
    },
    {
      "cell_type": "code",
      "metadata": {
        "id": "by0VR_m8MtTx",
        "colab_type": "code",
        "colab": {}
      },
      "source": [
        "#Missing children variable - Fill with median\n",
        "df.children.fillna(df.children.median(),inplace=True)"
      ],
      "execution_count": 12,
      "outputs": []
    },
    {
      "cell_type": "code",
      "metadata": {
        "id": "tTgk1d9YMtT2",
        "colab_type": "code",
        "colab": {
          "base_uri": "https://localhost:8080/",
          "height": 1000
        },
        "outputId": "dac71eb2-b2a5-425d-8c37-83646c017183"
      },
      "source": [
        "#Encoding Categorical Variables\n",
        "Type = (df.dtypes == 'O')\n",
        "cols = Type[Type==True].index\n",
        "\n",
        "for col in cols:\n",
        "    print(\"--------------relationship to canceled------------------\")\n",
        "    print(df.groupby(col).is_canceled.mean().sort_values(ascending=False))\n",
        "    print(col,\"--------------counts----------------\")\n",
        "    print(df[col].value_counts())\n",
        "    print(\"---------------------------------------\")\n",
        "    print(\"Number of Unique Categories:\",len(df[col].unique()))\n",
        "    print(\"---------------------------------------\")\n",
        "    print('\\n')"
      ],
      "execution_count": 13,
      "outputs": [
        {
          "output_type": "stream",
          "text": [
            "--------------relationship to canceled------------------\n",
            "hotel\n",
            "City Hotel      0.417270\n",
            "Resort Hotel    0.277634\n",
            "Name: is_canceled, dtype: float64\n",
            "hotel --------------counts----------------\n",
            "City Hotel      79330\n",
            "Resort Hotel    40060\n",
            "Name: hotel, dtype: int64\n",
            "---------------------------------------\n",
            "Number of Unique Categories: 2\n",
            "---------------------------------------\n",
            "\n",
            "\n",
            "--------------relationship to canceled------------------\n",
            "arrival_date_month\n",
            "June         0.414572\n",
            "April        0.407972\n",
            "May          0.396658\n",
            "September    0.391702\n",
            "October      0.380466\n",
            "August       0.377531\n",
            "July         0.374536\n",
            "December     0.349705\n",
            "February     0.334160\n",
            "March        0.321523\n",
            "November     0.312334\n",
            "January      0.304773\n",
            "Name: is_canceled, dtype: float64\n",
            "arrival_date_month --------------counts----------------\n",
            "August       13877\n",
            "July         12661\n",
            "May          11791\n",
            "October      11160\n",
            "April        11089\n",
            "June         10939\n",
            "September    10508\n",
            "March         9794\n",
            "February      8068\n",
            "November      6794\n",
            "December      6780\n",
            "January       5929\n",
            "Name: arrival_date_month, dtype: int64\n",
            "---------------------------------------\n",
            "Number of Unique Categories: 12\n",
            "---------------------------------------\n",
            "\n",
            "\n",
            "--------------relationship to canceled------------------\n",
            "meal\n",
            "FB           0.598997\n",
            "BB           0.373849\n",
            "SC           0.372394\n",
            "HB           0.344603\n",
            "Undefined    0.244654\n",
            "Name: is_canceled, dtype: float64\n",
            "meal --------------counts----------------\n",
            "BB           92310\n",
            "HB           14463\n",
            "SC           10650\n",
            "Undefined     1169\n",
            "FB             798\n",
            "Name: meal, dtype: int64\n",
            "---------------------------------------\n",
            "Number of Unique Categories: 5\n",
            "---------------------------------------\n",
            "\n",
            "\n",
            "--------------relationship to canceled------------------\n",
            "market_segment\n",
            "Undefined        1.000000\n",
            "Groups           0.610620\n",
            "Online TA        0.367211\n",
            "Offline TA/TO    0.343160\n",
            "Aviation         0.219409\n",
            "Corporate        0.187347\n",
            "Direct           0.153419\n",
            "Complementary    0.130552\n",
            "Name: is_canceled, dtype: float64\n",
            "market_segment --------------counts----------------\n",
            "Online TA        56477\n",
            "Offline TA/TO    24219\n",
            "Groups           19811\n",
            "Direct           12606\n",
            "Corporate         5295\n",
            "Complementary      743\n",
            "Aviation           237\n",
            "Undefined            2\n",
            "Name: market_segment, dtype: int64\n",
            "---------------------------------------\n",
            "Number of Unique Categories: 8\n",
            "---------------------------------------\n",
            "\n",
            "\n",
            "--------------relationship to canceled------------------\n",
            "distribution_channel\n",
            "Undefined    0.800000\n",
            "TA/TO        0.410259\n",
            "Corporate    0.220758\n",
            "GDS          0.191710\n",
            "Direct       0.174599\n",
            "Name: is_canceled, dtype: float64\n",
            "distribution_channel --------------counts----------------\n",
            "TA/TO        97870\n",
            "Direct       14645\n",
            "Corporate     6677\n",
            "GDS            193\n",
            "Undefined        5\n",
            "Name: distribution_channel, dtype: int64\n",
            "---------------------------------------\n",
            "Number of Unique Categories: 5\n",
            "---------------------------------------\n",
            "\n",
            "\n",
            "--------------relationship to canceled------------------\n",
            "reserved_room_type\n",
            "P    1.000000\n",
            "H    0.407654\n",
            "A    0.391074\n",
            "G    0.364374\n",
            "L    0.333333\n",
            "C    0.330472\n",
            "B    0.329159\n",
            "D    0.317796\n",
            "F    0.303763\n",
            "E    0.292884\n",
            "Name: is_canceled, dtype: float64\n",
            "reserved_room_type --------------counts----------------\n",
            "A    85994\n",
            "D    19201\n",
            "E     6535\n",
            "F     2897\n",
            "G     2094\n",
            "B     1118\n",
            "C      932\n",
            "H      601\n",
            "P       12\n",
            "L        6\n",
            "Name: reserved_room_type, dtype: int64\n",
            "---------------------------------------\n",
            "Number of Unique Categories: 10\n",
            "---------------------------------------\n",
            "\n",
            "\n",
            "--------------relationship to canceled------------------\n",
            "assigned_room_type\n",
            "P    1.000000\n",
            "L    1.000000\n",
            "A    0.444925\n",
            "H    0.352528\n",
            "G    0.305523\n",
            "E    0.252114\n",
            "D    0.251244\n",
            "F    0.247134\n",
            "B    0.236708\n",
            "C    0.187789\n",
            "K    0.043011\n",
            "I    0.013774\n",
            "Name: is_canceled, dtype: float64\n",
            "assigned_room_type --------------counts----------------\n",
            "A    74053\n",
            "D    25322\n",
            "E     7806\n",
            "F     3751\n",
            "G     2553\n",
            "C     2375\n",
            "B     2163\n",
            "H      712\n",
            "I      363\n",
            "K      279\n",
            "P       12\n",
            "L        1\n",
            "Name: assigned_room_type, dtype: int64\n",
            "---------------------------------------\n",
            "Number of Unique Categories: 12\n",
            "---------------------------------------\n",
            "\n",
            "\n",
            "--------------relationship to canceled------------------\n",
            "deposit_type\n",
            "Non Refund    0.993624\n",
            "No Deposit    0.283770\n",
            "Refundable    0.222222\n",
            "Name: is_canceled, dtype: float64\n",
            "deposit_type --------------counts----------------\n",
            "No Deposit    104641\n",
            "Non Refund     14587\n",
            "Refundable       162\n",
            "Name: deposit_type, dtype: int64\n",
            "---------------------------------------\n",
            "Number of Unique Categories: 3\n",
            "---------------------------------------\n",
            "\n",
            "\n",
            "--------------relationship to canceled------------------\n",
            "customer_type\n",
            "Transient          0.407463\n",
            "Contract           0.309617\n",
            "Transient-Party    0.254299\n",
            "Group              0.102253\n",
            "Name: is_canceled, dtype: float64\n",
            "customer_type --------------counts----------------\n",
            "Transient          89613\n",
            "Transient-Party    25124\n",
            "Contract            4076\n",
            "Group                577\n",
            "Name: customer_type, dtype: int64\n",
            "---------------------------------------\n",
            "Number of Unique Categories: 4\n",
            "---------------------------------------\n",
            "\n",
            "\n",
            "--------------relationship to canceled------------------\n",
            "reservation_status\n",
            "No-Show      1\n",
            "Canceled     1\n",
            "Check-Out    0\n",
            "Name: is_canceled, dtype: int64\n",
            "reservation_status --------------counts----------------\n",
            "Check-Out    75166\n",
            "Canceled     43017\n",
            "No-Show       1207\n",
            "Name: reservation_status, dtype: int64\n",
            "---------------------------------------\n",
            "Number of Unique Categories: 3\n",
            "---------------------------------------\n",
            "\n",
            "\n",
            "--------------relationship to canceled------------------\n",
            "reservation_status_date\n",
            "2014-10-17    1.0\n",
            "2015-04-17    1.0\n",
            "2015-06-24    1.0\n",
            "2015-05-15    1.0\n",
            "2015-05-14    1.0\n",
            "             ... \n",
            "2015-10-25    0.0\n",
            "2015-11-08    0.0\n",
            "2015-11-15    0.0\n",
            "2015-11-29    0.0\n",
            "2017-09-14    0.0\n",
            "Name: is_canceled, Length: 926, dtype: float64\n",
            "reservation_status_date --------------counts----------------\n",
            "2015-10-21    1461\n",
            "2015-07-06     805\n",
            "2016-11-25     790\n",
            "2015-01-01     763\n",
            "2016-01-18     625\n",
            "              ... \n",
            "2015-04-27       1\n",
            "2015-05-15       1\n",
            "2015-01-18       1\n",
            "2015-02-24       1\n",
            "2015-02-09       1\n",
            "Name: reservation_status_date, Length: 926, dtype: int64\n",
            "---------------------------------------\n",
            "Number of Unique Categories: 926\n",
            "---------------------------------------\n",
            "\n",
            "\n"
          ],
          "name": "stdout"
        }
      ]
    },
    {
      "cell_type": "code",
      "metadata": {
        "id": "y72d9sTyMtT7",
        "colab_type": "code",
        "colab": {
          "base_uri": "https://localhost:8080/",
          "height": 34
        },
        "outputId": "90aa3cbc-31ac-466e-c868-607a91370534"
      },
      "source": [
        "df.meal.unique()"
      ],
      "execution_count": 14,
      "outputs": [
        {
          "output_type": "execute_result",
          "data": {
            "text/plain": [
              "array(['BB', 'FB', 'HB', 'SC', 'Undefined'], dtype=object)"
            ]
          },
          "metadata": {
            "tags": []
          },
          "execution_count": 14
        }
      ]
    },
    {
      "cell_type": "markdown",
      "metadata": {
        "id": "6hjwrxgbMtT_",
        "colab_type": "text"
      },
      "source": [
        "### Variable to Encode\n",
        "\n",
        "Hotel               -----> One-hot encoding\n",
        "\n",
        "arrival_date_month  ----> Label ordinal encoding (months does seem to play a role in cancellations)\n",
        "\n",
        "meal                ----> few categories therefore one hot encoding\n",
        "\n",
        "market_segment       ---> does seem to influence cancellations, therefore mean encoding\n",
        "\n",
        "distribution_channel ---> mean encoding as does influence cancellation rates\n",
        "\n",
        "customer_type ----> mean encoding as does influence cancellation rates\n",
        "\n",
        "reserved_room_type   ----> No major differences except for rooms with small number of bookings, use one-hot\n",
        "\n",
        "assigned_room_type   ----> No major differences except for rooms with small number of bookings, use one-hot\n",
        "\n",
        "deposit_type         ----> one-hot as small number of categories\n",
        "\n",
        "reservation_status    ----> remove as contains info about cancellations\n",
        "\n"
      ]
    },
    {
      "cell_type": "code",
      "metadata": {
        "id": "hns-avbiMtUA",
        "colab_type": "code",
        "colab": {
          "base_uri": "https://localhost:8080/",
          "height": 442
        },
        "outputId": "6d3eeea0-ed42-49f2-9e34-606ab2bed0c1"
      },
      "source": [
        "#Performing one-hot encoding\n",
        "cols = ['hotel','meal','reserved_room_type','assigned_room_type','deposit_type']\n",
        "df1 = pd.get_dummies(df,columns=cols,prefix=cols,drop_first=True)\n",
        "df1.drop(['reservation_status','reservation_status_date'],axis=1,inplace=True)\n",
        "df1.columns"
      ],
      "execution_count": 15,
      "outputs": [
        {
          "output_type": "execute_result",
          "data": {
            "text/plain": [
              "Index(['is_canceled', 'lead_time', 'arrival_date_year', 'arrival_date_month',\n",
              "       'arrival_date_week_number', 'arrival_date_day_of_month',\n",
              "       'stays_in_weekend_nights', 'stays_in_week_nights', 'adults', 'children',\n",
              "       'babies', 'market_segment', 'distribution_channel', 'is_repeated_guest',\n",
              "       'previous_cancellations', 'previous_bookings_not_canceled',\n",
              "       'booking_changes', 'agent', 'days_in_waiting_list', 'customer_type',\n",
              "       'adr', 'required_car_parking_spaces', 'total_of_special_requests',\n",
              "       'missing_country', 'missing_agent', 'company_present', 'country_PRT',\n",
              "       'country_GBR', 'country_FRA', 'country_ESP', 'country_DEU',\n",
              "       'country_ITA', 'country_IRL', 'country_BEL', 'country_BRA',\n",
              "       'country_NLD', 'country_USA', 'country_CHE', 'country_CN',\n",
              "       'country_AUT', 'country_SWE', 'country_CHN', 'country_POL',\n",
              "       'country_ISR', 'country_RUS', 'country_NOR', 'country_ROU',\n",
              "       'country_FIN', 'country_DNK', 'country_AUS', 'country_AGO',\n",
              "       'country_LUX', 'country_MAR', 'country_TUR', 'country_HUN',\n",
              "       'hotel_Resort Hotel', 'meal_FB', 'meal_HB', 'meal_SC', 'meal_Undefined',\n",
              "       'reserved_room_type_B', 'reserved_room_type_C', 'reserved_room_type_D',\n",
              "       'reserved_room_type_E', 'reserved_room_type_F', 'reserved_room_type_G',\n",
              "       'reserved_room_type_H', 'reserved_room_type_L', 'reserved_room_type_P',\n",
              "       'assigned_room_type_B', 'assigned_room_type_C', 'assigned_room_type_D',\n",
              "       'assigned_room_type_E', 'assigned_room_type_F', 'assigned_room_type_G',\n",
              "       'assigned_room_type_H', 'assigned_room_type_I', 'assigned_room_type_K',\n",
              "       'assigned_room_type_L', 'assigned_room_type_P',\n",
              "       'deposit_type_Non Refund', 'deposit_type_Refundable'],\n",
              "      dtype='object')"
            ]
          },
          "metadata": {
            "tags": []
          },
          "execution_count": 15
        }
      ]
    },
    {
      "cell_type": "code",
      "metadata": {
        "id": "rvz0gWgeMtUE",
        "colab_type": "code",
        "colab": {}
      },
      "source": [
        "#Label Encoding\n",
        "\n",
        "#Arrival Date\n",
        "encoding = df1.groupby('arrival_date_month').is_canceled.mean().sort_values(ascending=False).rank().to_dict()\n",
        "df1['arrival_date_month'] = df1['arrival_date_month'].map(encoding)\n",
        "\n",
        "#Mean Encoding\n",
        "def Mean_Encode(df,cols):\n",
        "    for col in cols:\n",
        "        encoding = df.groupby(col).is_canceled.mean().sort_values(ascending=False).to_dict() \n",
        "        df[col] = df[col].map(encoding)\n",
        "    return df\n",
        "\n",
        "df1 = Mean_Encode(df1,['market_segment','distribution_channel','customer_type'])"
      ],
      "execution_count": 16,
      "outputs": []
    },
    {
      "cell_type": "code",
      "metadata": {
        "id": "iCt073AGMtUJ",
        "colab_type": "code",
        "colab": {
          "base_uri": "https://localhost:8080/",
          "height": 455
        },
        "outputId": "07fa4e67-3df3-4c76-828c-3d5cd497d718"
      },
      "source": [
        "# Correlations between features\n",
        "import seaborn as sns\n",
        "cols = list(df1.corr()[(df1.corr() >= 0.7) & (df1.corr() != 1)].sum().where(lambda x: x != 0).dropna().index)\n",
        "sns.heatmap(df1.corr()[(df1.corr() >= 0.7) & (df1.corr() != 1)].loc[cols,cols],linewidths=.10)\n",
        "\n",
        "#As we might expect the reserved room type and assigned room type variables are highly correlated\n",
        "#We can remove one of them --- we remove assigned becuase it may be a variable that we dont know beforehand"
      ],
      "execution_count": 17,
      "outputs": [
        {
          "output_type": "stream",
          "text": [
            "/usr/local/lib/python3.6/dist-packages/statsmodels/tools/_testing.py:19: FutureWarning:\n",
            "\n",
            "pandas.util.testing is deprecated. Use the functions in the public API at pandas.testing instead.\n",
            "\n"
          ],
          "name": "stderr"
        },
        {
          "output_type": "execute_result",
          "data": {
            "text/plain": [
              "<matplotlib.axes._subplots.AxesSubplot at 0x7f073fc761d0>"
            ]
          },
          "metadata": {
            "tags": []
          },
          "execution_count": 17
        },
        {
          "output_type": "display_data",
          "data": {
            "image/png": "[encoded data removed]",
            "text/plain": [
              "<Figure size 432x288 with 2 Axes>"
            ]
          },
          "metadata": {
            "tags": [],
            "needs_background": "light"
          }
        }
      ]
    },
    {
      "cell_type": "code",
      "metadata": {
        "id": "txX-mrEWMtUN",
        "colab_type": "code",
        "colab": {}
      },
      "source": [
        "df1.drop(cols[-5:len(cols)],axis=1,inplace=True)"
      ],
      "execution_count": 18,
      "outputs": []
    },
    {
      "cell_type": "code",
      "metadata": {
        "id": "wuTYRZBFMtUT",
        "colab_type": "code",
        "colab": {}
      },
      "source": [
        "#Feature Selection\n",
        "from sklearn.ensemble import RandomForestClassifier\n",
        "from sklearn.model_selection import train_test_split"
      ],
      "execution_count": 19,
      "outputs": []
    },
    {
      "cell_type": "code",
      "metadata": {
        "id": "VPKtPigcMtUY",
        "colab_type": "code",
        "colab": {
          "base_uri": "https://localhost:8080/",
          "height": 68
        },
        "outputId": "c4665dab-1829-41a2-f5a6-bc6528138d99"
      },
      "source": [
        "X = df1.drop('is_canceled',axis=1)\n",
        "y = df1['is_canceled']\n",
        "\n",
        "#Test Train Split\n",
        "X_train,X_test,y_train,y_test = train_test_split(X,y,test_size=0.3,shuffle=True)\n",
        "\n",
        "#Feature Importance\n",
        "model = RandomForestClassifier(n_estimators = 100,verbose=1,n_jobs=-1)\n",
        "best = model.fit(X_train,y_train)"
      ],
      "execution_count": 20,
      "outputs": [
        {
          "output_type": "stream",
          "text": [
            "[Parallel(n_jobs=-1)]: Using backend ThreadingBackend with 2 concurrent workers.\n",
            "[Parallel(n_jobs=-1)]: Done  46 tasks      | elapsed:    5.2s\n",
            "[Parallel(n_jobs=-1)]: Done 100 out of 100 | elapsed:   11.4s finished\n"
          ],
          "name": "stderr"
        }
      ]
    },
    {
      "cell_type": "code",
      "metadata": {
        "id": "MN9jAHt3MtUd",
        "colab_type": "code",
        "colab": {
          "base_uri": "https://localhost:8080/",
          "height": 419
        },
        "outputId": "9517f96c-d9b0-4084-dffc-2861c5754b4e"
      },
      "source": [
        "pd.Series(dict(zip(list(X.columns),list(best.feature_importances_)))).sort_values(ascending=False).head(30).plot.bar()\n",
        "cols_keep = list(pd.Series(dict(zip(list(X.columns),list(best.feature_importances_)))).sort_values(ascending=False).head(30).index)"
      ],
      "execution_count": 21,
      "outputs": [
        {
          "output_type": "display_data",
          "data": {
            "image/png": "[encoded data removed]",
            "text/plain": [
              "<Figure size 432x288 with 1 Axes>"
            ]
          },
          "metadata": {
            "tags": [],
            "needs_background": "light"
          }
        }
      ]
    },
    {
      "cell_type": "code",
      "metadata": {
        "id": "UDId8RnLMtUi",
        "colab_type": "code",
        "colab": {
          "base_uri": "https://localhost:8080/",
          "height": 216
        },
        "outputId": "0867d098-aa97-4f92-d3fa-4567cd0d7ffe"
      },
      "source": [
        "#Lead time is the most significant variable. Lets explore it\n",
        "\n",
        "cols = ['lead_time','adr','previous_cancellations','booking_changes','adults']\n",
        "i = 1\n",
        "fig = plt.figure()\n",
        "for col in cols:\n",
        "    ax = fig.add_subplot(3,3,i)\n",
        "    df1.groupby('is_canceled')[col].mean().plot.bar(title=col)\n",
        "    i += 1\n",
        "\n",
        "plt.show()\n"
      ],
      "execution_count": 22,
      "outputs": [
        {
          "output_type": "display_data",
          "data": {
            "image/png": "[encoded data removed]",
            "text/plain": [
              "<Figure size 432x288 with 5 Axes>"
            ]
          },
          "metadata": {
            "tags": [],
            "needs_background": "light"
          }
        }
      ]
    },
    {
      "cell_type": "code",
      "metadata": {
        "id": "kD1gIJI2MtUm",
        "colab_type": "code",
        "colab": {
          "base_uri": "https://localhost:8080/",
          "height": 297
        },
        "outputId": "1fb46bf1-5c14-4849-bc9d-629aa971dc7e"
      },
      "source": [
        "#Important features relationship\n",
        "sns.boxplot(y=df.lead_time,x=df.is_canceled,orient='v')"
      ],
      "execution_count": 23,
      "outputs": [
        {
          "output_type": "execute_result",
          "data": {
            "text/plain": [
              "<matplotlib.axes._subplots.AxesSubplot at 0x7f073cab0be0>"
            ]
          },
          "metadata": {
            "tags": []
          },
          "execution_count": 23
        },
        {
          "output_type": "display_data",
          "data": {
            "image/png": "[encoded data removed]",
            "text/plain": [
              "<Figure size 432x288 with 1 Axes>"
            ]
          },
          "metadata": {
            "tags": [],
            "needs_background": "light"
          }
        }
      ]
    },
    {
      "cell_type": "code",
      "metadata": {
        "id": "s_qLfT_eMtUp",
        "colab_type": "code",
        "colab": {
          "base_uri": "https://localhost:8080/",
          "height": 54
        },
        "outputId": "76f3cfbd-d3ba-4abe-87a7-4b4da1ca9778"
      },
      "source": [
        "# As we can see from the above, people who cancelled their booking generally had a longer lead time than those that did not.\n",
        "print(cols_keep)\n",
        "#Selecting the top 30 features\n",
        "df2 = df1[cols_keep]\n",
        "X = df1.drop('is_canceled',axis=1)\n",
        "y = df1['is_canceled']\n",
        "\n",
        "#Test Train Split\n",
        "X_train,X_test,y_train,y_test = train_test_split(X,y,test_size=0.3,shuffle=True)"
      ],
      "execution_count": 24,
      "outputs": [
        {
          "output_type": "stream",
          "text": [
            "['lead_time', 'deposit_type_Non Refund', 'adr', 'country_PRT', 'total_of_special_requests', 'arrival_date_day_of_month', 'arrival_date_week_number', 'agent', 'market_segment', 'stays_in_week_nights', 'previous_cancellations', 'arrival_date_month', 'customer_type', 'arrival_date_year', 'stays_in_weekend_nights', 'required_car_parking_spaces', 'booking_changes', 'adults', 'distribution_channel', 'hotel_Resort Hotel', 'country_GBR', 'reserved_room_type_D', 'country_FRA', 'meal_HB', 'meal_SC', 'country_DEU', 'children', 'country_ESP', 'previous_bookings_not_canceled', 'missing_agent']\n"
          ],
          "name": "stdout"
        }
      ]
    },
    {
      "cell_type": "code",
      "metadata": {
        "id": "32DYQV1DMtUt",
        "colab_type": "code",
        "colab": {
          "base_uri": "https://localhost:8080/",
          "height": 34
        },
        "outputId": "22538ea5-0fc2-4c9a-dd42-ed6a23c85d5a"
      },
      "source": [
        "###### Creating a Model --- Inital Model #######\n",
        "import warnings\n",
        "warnings.filterwarnings('ignore')\n",
        "#### First simple model --- Logistc Regression\n",
        "from sklearn.linear_model import LogisticRegression\n",
        "from sklearn.model_selection import cross_val_score\n",
        "\n",
        "model = LogisticRegression(penalty='l2',n_jobs = -1,verbose=1,)\n",
        "\n",
        "best = cross_val_score(estimator = model,X=X_train,y=y_train,verbose=0,n_jobs=-1,cv=10)\n",
        "print('mean_score is:',best.mean())"
      ],
      "execution_count": 25,
      "outputs": [
        {
          "output_type": "stream",
          "text": [
            "mean_score is: 0.7540470734327718\n"
          ],
          "name": "stdout"
        }
      ]
    },
    {
      "cell_type": "code",
      "metadata": {
        "id": "fL7z5fWVMtUx",
        "colab_type": "code",
        "colab": {
          "base_uri": "https://localhost:8080/",
          "height": 34
        },
        "outputId": "684d2f84-dd9c-4cd6-97e9-dc6655625e41"
      },
      "source": [
        "from sklearn.metrics import classification_report\n",
        "from sklearn.metrics import confusion_matrix\n",
        "cross_val_score"
      ],
      "execution_count": 26,
      "outputs": [
        {
          "output_type": "execute_result",
          "data": {
            "text/plain": [
              "<function sklearn.model_selection._validation.cross_val_score>"
            ]
          },
          "metadata": {
            "tags": []
          },
          "execution_count": 26
        }
      ]
    },
    {
      "cell_type": "code",
      "metadata": {
        "id": "AeyhCti0MtU0",
        "colab_type": "code",
        "colab": {
          "base_uri": "https://localhost:8080/",
          "height": 289
        },
        "outputId": "0dc28e8a-4472-4211-af5b-83f9c55bf9be"
      },
      "source": [
        "model = LogisticRegression(penalty='l2',n_jobs = 1,verbose=0,).fit(X_train,y_train)\n",
        "print(\"Training Accuracy:\",model.score)\n",
        "print(classification_report(y_test,model.predict(X_test)))\n",
        "print(confusion_matrix(y_test,model.predict(X_test)))"
      ],
      "execution_count": 27,
      "outputs": [
        {
          "output_type": "stream",
          "text": [
            "Training Accuracy: <bound method ClassifierMixin.score of LogisticRegression(C=1.0, class_weight=None, dual=False, fit_intercept=True,\n",
            "                   intercept_scaling=1, l1_ratio=None, max_iter=100,\n",
            "                   multi_class='auto', n_jobs=1, penalty='l2',\n",
            "                   random_state=None, solver='lbfgs', tol=0.0001, verbose=0,\n",
            "                   warm_start=False)>\n",
            "              precision    recall  f1-score   support\n",
            "\n",
            "           0       0.76      0.89      0.82     22613\n",
            "           1       0.73      0.53      0.62     13204\n",
            "\n",
            "    accuracy                           0.76     35817\n",
            "   macro avg       0.75      0.71      0.72     35817\n",
            "weighted avg       0.75      0.76      0.75     35817\n",
            "\n",
            "[[20042  2571]\n",
            " [ 6189  7015]]\n"
          ],
          "name": "stdout"
        }
      ]
    },
    {
      "cell_type": "code",
      "metadata": {
        "id": "6Rq3ctYOMtU4",
        "colab_type": "code",
        "colab": {
          "base_uri": "https://localhost:8080/",
          "height": 68
        },
        "outputId": "634e212b-9ebd-4d68-c4c8-59640244fbe8"
      },
      "source": [
        "#As we can see from the above, we are doing poorly on the positve classes.\n",
        "\n",
        "###### Second Model --- RandomForest Classifier\n",
        "\n",
        "from sklearn.ensemble import RandomForestClassifier\n",
        "model = RandomForestClassifier(n_estimators = 100, n_jobs=-1, max_depth = 100, verbose=1,).fit(X_train,y_train)"
      ],
      "execution_count": 28,
      "outputs": [
        {
          "output_type": "stream",
          "text": [
            "[Parallel(n_jobs=-1)]: Using backend ThreadingBackend with 2 concurrent workers.\n",
            "[Parallel(n_jobs=-1)]: Done  46 tasks      | elapsed:    5.4s\n",
            "[Parallel(n_jobs=-1)]: Done 100 out of 100 | elapsed:   11.6s finished\n"
          ],
          "name": "stderr"
        }
      ]
    },
    {
      "cell_type": "code",
      "metadata": {
        "id": "AboPYJj4MtU-",
        "colab_type": "code",
        "colab": {}
      },
      "source": [
        ""
      ],
      "execution_count": 28,
      "outputs": []
    },
    {
      "cell_type": "code",
      "metadata": {
        "id": "7iS7DpV-MtVD",
        "colab_type": "code",
        "colab": {
          "base_uri": "https://localhost:8080/",
          "height": 323
        },
        "outputId": "6b061f6b-addd-47a2-9fd8-a559db8c3107"
      },
      "source": [
        "print('mean_accuracy:',cross_val_score(estimator = model,X=X_train,y=y_train,verbose=0,n_jobs=-1,cv=10).mean())\n",
        "print(classification_report(y_test,model.predict(X_test)))\n",
        "print(confusion_matrix(y_test,model.predict(X_test)))"
      ],
      "execution_count": 29,
      "outputs": [
        {
          "output_type": "stream",
          "text": [
            "mean_accuracy: 0.8905508642605039\n"
          ],
          "name": "stdout"
        },
        {
          "output_type": "stream",
          "text": [
            "[Parallel(n_jobs=2)]: Using backend ThreadingBackend with 2 concurrent workers.\n",
            "[Parallel(n_jobs=2)]: Done  46 tasks      | elapsed:    0.4s\n",
            "[Parallel(n_jobs=2)]: Done 100 out of 100 | elapsed:    0.8s finished\n"
          ],
          "name": "stderr"
        },
        {
          "output_type": "stream",
          "text": [
            "              precision    recall  f1-score   support\n",
            "\n",
            "           0       0.90      0.94      0.92     22613\n",
            "           1       0.89      0.82      0.85     13204\n",
            "\n",
            "    accuracy                           0.89     35817\n",
            "   macro avg       0.89      0.88      0.88     35817\n",
            "weighted avg       0.89      0.89      0.89     35817\n",
            "\n"
          ],
          "name": "stdout"
        },
        {
          "output_type": "stream",
          "text": [
            "[Parallel(n_jobs=2)]: Using backend ThreadingBackend with 2 concurrent workers.\n",
            "[Parallel(n_jobs=2)]: Done  46 tasks      | elapsed:    0.4s\n",
            "[Parallel(n_jobs=2)]: Done 100 out of 100 | elapsed:    0.9s finished\n"
          ],
          "name": "stderr"
        },
        {
          "output_type": "stream",
          "text": [
            "[[21224  1389]\n",
            " [ 2385 10819]]\n"
          ],
          "name": "stdout"
        }
      ]
    },
    {
      "cell_type": "code",
      "metadata": {
        "id": "1TEjUodWMtVH",
        "colab_type": "code",
        "colab": {
          "base_uri": "https://localhost:8080/",
          "height": 1000
        },
        "outputId": "1aabe114-771e-4bc8-d6b7-72c84bbd8387"
      },
      "source": [
        "# We are getting quite good results from the Random Forest Model\n",
        "# We can further improve the model by using hyperparameter optimization (using optuna)\n",
        "\n",
        "import optuna\n",
        "\n",
        "#Defining the sample space and objective function\n",
        "def objective(trial):\n",
        "    \n",
        "    #Define the sample space\n",
        "    n_estimators = trial.suggest_int('n_estimators',50,500,10)\n",
        "    criterion = trial.suggest_categorical('criterion',['gini', 'entropy'])\n",
        "    max_depth = trial.suggest_float('max_depth',2,200,log=True)\n",
        "    min_samples_split = trial.suggest_float('min_samples_split',0,0.9)\n",
        "    #min_samples_leaf = trial.suggest_float('min_samples_leaf',0.05,0.8)\n",
        "    max_features = trial.suggest_categorical('max_features',['auto', 'log2'])\n",
        "    \n",
        "    #Define the model\n",
        "    model = RandomForestClassifier(n_estimators = n_estimators,\n",
        "                                  criterion = criterion,\n",
        "                                   max_depth = max_depth,\n",
        "                                   min_samples_split = min_samples_split,\n",
        "                                   #min_samples_leaf = min_samples_leaf,\n",
        "                                   max_features = max_features,\n",
        "                                  n_jobs = -1)\n",
        "    \n",
        "    \n",
        "    #Obtaining Cross Validation Score ---- mean score\n",
        "    score = cross_val_score(model,X_train,y_train,n_jobs=-1,cv=10).mean()\n",
        "    \n",
        "    return score\n",
        "\n",
        "study = optuna.create_study(direction='maximize')\n",
        "study.optimize(objective,n_trials = 100)\n",
        "\n",
        "trial = study.best_trial\n",
        "\n",
        "print('Accuracy: {}'.format(trial.value))\n",
        "print(\"Best hyperparameters: {}\".format(trial.params))"
      ],
      "execution_count": 32,
      "outputs": [
        {
          "output_type": "stream",
          "text": [
            "[I 2020-08-15 10:11:15,212] Trial 0 finished with value: 0.7531739121483645 and parameters: {'n_estimators': 90, 'criterion': 'entropy', 'max_depth': 2.578564540221802, 'min_samples_split': 0.33311709175851556, 'max_features': 'auto'}. Best is trial 0 with value: 0.7531739121483645.\n",
            "[I 2020-08-15 10:11:38,157] Trial 1 finished with value: 0.6288274910166828 and parameters: {'n_estimators': 270, 'criterion': 'gini', 'max_depth': 60.67737746352723, 'min_samples_split': 0.6349670579755522, 'max_features': 'log2'}. Best is trial 0 with value: 0.7531739121483645.\n",
            "[I 2020-08-15 10:12:11,068] Trial 2 finished with value: 0.6288274910166828 and parameters: {'n_estimators': 390, 'criterion': 'gini', 'max_depth': 6.037245790075705, 'min_samples_split': 0.7371769412550425, 'max_features': 'log2'}. Best is trial 0 with value: 0.7531739121483645.\n",
            "[I 2020-08-15 10:13:41,114] Trial 3 finished with value: 0.7704522401176066 and parameters: {'n_estimators': 330, 'criterion': 'entropy', 'max_depth': 6.166654850940054, 'min_samples_split': 0.14957346746781394, 'max_features': 'auto'}. Best is trial 3 with value: 0.7704522401176066.\n",
            "[I 2020-08-15 10:14:39,447] Trial 4 finished with value: 0.7145973360995763 and parameters: {'n_estimators': 450, 'criterion': 'entropy', 'max_depth': 6.42764710887925, 'min_samples_split': 0.5553795518635102, 'max_features': 'log2'}. Best is trial 3 with value: 0.7704522401176066.\n",
            "[I 2020-08-15 10:15:48,857] Trial 5 finished with value: 0.7595516285794288 and parameters: {'n_estimators': 400, 'criterion': 'entropy', 'max_depth': 69.80684109838326, 'min_samples_split': 0.3926865082811759, 'max_features': 'log2'}. Best is trial 3 with value: 0.7704522401176066.\n",
            "[I 2020-08-15 10:16:40,242] Trial 6 finished with value: 0.6677516126991877 and parameters: {'n_estimators': 420, 'criterion': 'gini', 'max_depth': 124.14688856576099, 'min_samples_split': 0.6191975643022158, 'max_features': 'auto'}. Best is trial 3 with value: 0.7704522401176066.\n",
            "[I 2020-08-15 10:17:32,093] Trial 7 finished with value: 0.744439023610849 and parameters: {'n_estimators': 380, 'criterion': 'entropy', 'max_depth': 153.23156289138726, 'min_samples_split': 0.5633714537746397, 'max_features': 'auto'}. Best is trial 3 with value: 0.7704522401176066.\n",
            "[I 2020-08-15 10:17:50,350] Trial 8 finished with value: 0.7612028143017119 and parameters: {'n_estimators': 90, 'criterion': 'gini', 'max_depth': 7.347885184187599, 'min_samples_split': 0.2934387234812738, 'max_features': 'log2'}. Best is trial 3 with value: 0.7704522401176066.\n",
            "[I 2020-08-15 10:18:15,657] Trial 9 finished with value: 0.6288274910166828 and parameters: {'n_estimators': 300, 'criterion': 'entropy', 'max_depth': 5.412886592995231, 'min_samples_split': 0.6382153006969397, 'max_features': 'auto'}. Best is trial 3 with value: 0.7704522401176066.\n",
            "[I 2020-08-15 10:20:01,800] Trial 10 finished with value: 0.8294186133777774 and parameters: {'n_estimators': 200, 'criterion': 'entropy', 'max_depth': 20.829535504406564, 'min_samples_split': 0.03185649961606267, 'max_features': 'auto'}. Best is trial 10 with value: 0.8294186133777774.\n",
            "[I 2020-08-15 10:22:53,003] Trial 11 finished with value: 0.8565087398736619 and parameters: {'n_estimators': 220, 'criterion': 'entropy', 'max_depth': 21.97771719116377, 'min_samples_split': 0.003805496579061908, 'max_features': 'auto'}. Best is trial 11 with value: 0.8565087398736619.\n",
            "[I 2020-08-15 10:24:50,659] Trial 12 finished with value: 0.8394458159501816 and parameters: {'n_estimators': 190, 'criterion': 'entropy', 'max_depth': 25.410459042694228, 'min_samples_split': 0.0179499680850701, 'max_features': 'auto'}. Best is trial 11 with value: 0.8565087398736619.\n",
            "[I 2020-08-15 10:26:41,259] Trial 13 finished with value: 0.8351381774253582 and parameters: {'n_estimators': 190, 'criterion': 'entropy', 'max_depth': 20.617717226914525, 'min_samples_split': 0.023123733421344855, 'max_features': 'auto'}. Best is trial 11 with value: 0.8565087398736619.\n",
            "[I 2020-08-15 10:27:33,525] Trial 14 finished with value: 0.7758487804183857 and parameters: {'n_estimators': 170, 'criterion': 'entropy', 'max_depth': 39.17568129227095, 'min_samples_split': 0.1551510079328809, 'max_features': 'auto'}. Best is trial 11 with value: 0.8565087398736619.\n",
            "[I 2020-08-15 10:28:46,314] Trial 15 finished with value: 0.774209460494722 and parameters: {'n_estimators': 250, 'criterion': 'entropy', 'max_depth': 11.890438074285424, 'min_samples_split': 0.17492346861913316, 'max_features': 'auto'}. Best is trial 11 with value: 0.8565087398736619.\n",
            "[I 2020-08-15 10:31:14,313] Trial 16 finished with value: 0.8814450292110821 and parameters: {'n_estimators': 140, 'criterion': 'entropy', 'max_depth': 36.650824640184155, 'min_samples_split': 0.0002667046460346663, 'max_features': 'auto'}. Best is trial 16 with value: 0.8814450292110821.\n",
            "[I 2020-08-15 10:31:24,961] Trial 17 finished with value: 0.6288274910166828 and parameters: {'n_estimators': 120, 'criterion': 'entropy', 'max_depth': 66.66157394832449, 'min_samples_split': 0.8840991378319222, 'max_features': 'auto'}. Best is trial 16 with value: 0.8814450292110821.\n",
            "[I 2020-08-15 10:32:01,800] Trial 18 finished with value: 0.7705479782715007 and parameters: {'n_estimators': 140, 'criterion': 'entropy', 'max_depth': 32.87747522373785, 'min_samples_split': 0.22971027941926558, 'max_features': 'auto'}. Best is trial 16 with value: 0.8814450292110821.\n",
            "[I 2020-08-15 10:32:23,848] Trial 19 finished with value: 0.806552366154493 and parameters: {'n_estimators': 50, 'criterion': 'entropy', 'max_depth': 12.232740130343121, 'min_samples_split': 0.05954084580772456, 'max_features': 'auto'}. Best is trial 16 with value: 0.8814450292110821.\n",
            "[I 2020-08-15 10:33:44,283] Trial 20 finished with value: 0.7797614774041721 and parameters: {'n_estimators': 240, 'criterion': 'gini', 'max_depth': 12.712631585383377, 'min_samples_split': 0.10883821904608015, 'max_features': 'auto'}. Best is trial 16 with value: 0.8814450292110821.\n",
            "[I 2020-08-15 10:36:19,645] Trial 21 finished with value: 0.8511720869228162 and parameters: {'n_estimators': 210, 'criterion': 'entropy', 'max_depth': 33.71718464569472, 'min_samples_split': 0.006908841481810424, 'max_features': 'auto'}. Best is trial 16 with value: 0.8814450292110821.\n",
            "[I 2020-08-15 10:38:49,347] Trial 22 finished with value: 0.8460627353134041 and parameters: {'n_estimators': 220, 'criterion': 'entropy', 'max_depth': 45.882875294225464, 'min_samples_split': 0.011107966265940399, 'max_features': 'auto'}. Best is trial 16 with value: 0.8814450292110821.\n",
            "[I 2020-08-15 10:39:28,153] Trial 23 finished with value: 0.7714334019310499 and parameters: {'n_estimators': 150, 'criterion': 'entropy', 'max_depth': 31.754612833257095, 'min_samples_split': 0.2370112162637109, 'max_features': 'auto'}. Best is trial 16 with value: 0.8814450292110821.\n",
            "[I 2020-08-15 10:41:24,051] Trial 24 finished with value: 0.7951611722779095 and parameters: {'n_estimators': 310, 'criterion': 'entropy', 'max_depth': 96.86064162188279, 'min_samples_split': 0.09267605339575952, 'max_features': 'auto'}. Best is trial 16 with value: 0.8814450292110821.\n",
            "[I 2020-08-15 10:41:56,689] Trial 25 finished with value: 0.7890466495110813 and parameters: {'n_estimators': 90, 'criterion': 'entropy', 'max_depth': 47.369825927003994, 'min_samples_split': 0.10367474777525268, 'max_features': 'auto'}. Best is trial 16 with value: 0.8814450292110821.\n",
            "[I 2020-08-15 10:42:30,273] Trial 26 finished with value: 0.8446627285615815 and parameters: {'n_estimators': 50, 'criterion': 'entropy', 'max_depth': 14.221896889487333, 'min_samples_split': 0.006300545444752519, 'max_features': 'auto'}. Best is trial 16 with value: 0.8814450292110821.\n",
            "[I 2020-08-15 10:43:00,648] Trial 27 finished with value: 0.7710743613049205 and parameters: {'n_estimators': 120, 'criterion': 'entropy', 'max_depth': 26.455756493368078, 'min_samples_split': 0.24714375143822187, 'max_features': 'auto'}. Best is trial 16 with value: 0.8814450292110821.\n",
            "[I 2020-08-15 10:43:42,878] Trial 28 finished with value: 0.7602097351490181 and parameters: {'n_estimators': 240, 'criterion': 'entropy', 'max_depth': 18.246564225580276, 'min_samples_split': 0.44238440616705343, 'max_features': 'auto'}. Best is trial 16 with value: 0.8814450292110821.\n",
            "[I 2020-08-15 10:44:37,972] Trial 29 finished with value: 0.7561773107089433 and parameters: {'n_estimators': 350, 'criterion': 'entropy', 'max_depth': 2.986215843485336, 'min_samples_split': 0.36267847872516956, 'max_features': 'auto'}. Best is trial 16 with value: 0.8814450292110821.\n",
            "[I 2020-08-15 10:45:56,252] Trial 30 finished with value: 0.7744128527100765 and parameters: {'n_estimators': 270, 'criterion': 'entropy', 'max_depth': 103.67343679015735, 'min_samples_split': 0.17698944092392097, 'max_features': 'auto'}. Best is trial 16 with value: 0.8814450292110821.\n",
            "[I 2020-08-15 10:49:21,056] Trial 31 finished with value: 0.8670384263751965 and parameters: {'n_estimators': 230, 'criterion': 'entropy', 'max_depth': 48.17232751632805, 'min_samples_split': 0.0018060517795973688, 'max_features': 'auto'}. Best is trial 16 with value: 0.8814450292110821.\n",
            "[I 2020-08-15 10:50:44,681] Trial 32 finished with value: 0.8005456635244921 and parameters: {'n_estimators': 210, 'criterion': 'entropy', 'max_depth': 54.705246452002186, 'min_samples_split': 0.08098241669945419, 'max_features': 'auto'}. Best is trial 16 with value: 0.8814450292110821.\n",
            "[I 2020-08-15 10:51:56,148] Trial 33 finished with value: 0.8120445429595884 and parameters: {'n_estimators': 160, 'criterion': 'entropy', 'max_depth': 29.19270440845497, 'min_samples_split': 0.05858960944678153, 'max_features': 'auto'}. Best is trial 16 with value: 0.8814450292110821.\n",
            "[I 2020-08-15 10:54:27,241] Trial 34 finished with value: 0.8366697201627208 and parameters: {'n_estimators': 280, 'criterion': 'gini', 'max_depth': 86.74179649616872, 'min_samples_split': 0.013713297168492308, 'max_features': 'log2'}. Best is trial 16 with value: 0.8814450292110821.\n",
            "[I 2020-08-15 10:54:46,967] Trial 35 finished with value: 0.6288274910166828 and parameters: {'n_estimators': 230, 'criterion': 'entropy', 'max_depth': 40.83197308649931, 'min_samples_split': 0.848652776178864, 'max_features': 'auto'}. Best is trial 16 with value: 0.8814450292110821.\n",
            "[I 2020-08-15 10:55:39,262] Trial 36 finished with value: 0.7748675212504168 and parameters: {'n_estimators': 180, 'criterion': 'entropy', 'max_depth': 16.31987243444948, 'min_samples_split': 0.13033250485478953, 'max_features': 'log2'}. Best is trial 16 with value: 0.8814450292110821.\n",
            "[I 2020-08-15 10:57:55,405] Trial 37 finished with value: 0.8118650369633658 and parameters: {'n_estimators': 270, 'criterion': 'entropy', 'max_depth': 9.79100359285929, 'min_samples_split': 0.00400548784334465, 'max_features': 'auto'}. Best is trial 16 with value: 0.8814450292110821.\n",
            "[I 2020-08-15 10:58:40,675] Trial 38 finished with value: 0.8015149051353166 and parameters: {'n_estimators': 110, 'criterion': 'gini', 'max_depth': 76.82045365243337, 'min_samples_split': 0.06885708743393995, 'max_features': 'auto'}. Best is trial 16 with value: 0.8814450292110821.\n",
            "[I 2020-08-15 10:59:22,778] Trial 39 finished with value: 0.7623994102262854 and parameters: {'n_estimators': 210, 'criterion': 'entropy', 'max_depth': 55.86064481621192, 'min_samples_split': 0.3075022278820531, 'max_features': 'log2'}. Best is trial 16 with value: 0.8814450292110821.\n",
            "[I 2020-08-15 11:00:54,252] Trial 40 finished with value: 0.7740060038535784 and parameters: {'n_estimators': 340, 'criterion': 'entropy', 'max_depth': 37.29403817683361, 'min_samples_split': 0.20082924288610474, 'max_features': 'auto'}. Best is trial 16 with value: 0.8814450292110821.\n",
            "[I 2020-08-15 11:03:58,453] Trial 41 finished with value: 0.8615462538651535 and parameters: {'n_estimators': 220, 'criterion': 'entropy', 'max_depth': 45.18359977354586, 'min_samples_split': 0.0029012650619591185, 'max_features': 'auto'}. Best is trial 16 with value: 0.8814450292110821.\n",
            "[I 2020-08-15 11:07:40,419] Trial 42 finished with value: 0.8133249024314377 and parameters: {'n_estimators': 500, 'criterion': 'entropy', 'max_depth': 198.1007474344427, 'min_samples_split': 0.05668233063780933, 'max_features': 'auto'}. Best is trial 16 with value: 0.8814450292110821.\n",
            "[I 2020-08-15 11:11:24,400] Trial 43 finished with value: 0.8695392937610669 and parameters: {'n_estimators': 250, 'criterion': 'entropy', 'max_depth': 22.5078480741847, 'min_samples_split': 0.0007723788105692565, 'max_features': 'auto'}. Best is trial 16 with value: 0.8814450292110821.\n",
            "[I 2020-08-15 11:12:57,655] Trial 44 finished with value: 0.7765187971688045 and parameters: {'n_estimators': 290, 'criterion': 'entropy', 'max_depth': 26.461627202751416, 'min_samples_split': 0.13691799854503262, 'max_features': 'auto'}. Best is trial 16 with value: 0.8814450292110821.\n",
            "[I 2020-08-15 11:14:57,900] Trial 45 finished with value: 0.8173812431560126 and parameters: {'n_estimators': 260, 'criterion': 'entropy', 'max_depth': 21.746976131947623, 'min_samples_split': 0.04993552439507054, 'max_features': 'auto'}. Best is trial 16 with value: 0.8814450292110821.\n",
            "[I 2020-08-15 11:16:47,414] Trial 46 finished with value: 0.7865818405233803 and parameters: {'n_estimators': 310, 'criterion': 'entropy', 'max_depth': 53.297110461551384, 'min_samples_split': 0.1061626101152639, 'max_features': 'auto'}. Best is trial 16 with value: 0.8814450292110821.\n",
            "[I 2020-08-15 11:17:03,278] Trial 47 finished with value: 0.6288274910166828 and parameters: {'n_estimators': 180, 'criterion': 'entropy', 'max_depth': 24.339727842398563, 'min_samples_split': 0.7681166621948889, 'max_features': 'auto'}. Best is trial 16 with value: 0.8814450292110821.\n",
            "[I 2020-08-15 11:17:25,930] Trial 48 finished with value: 0.7560097363688131 and parameters: {'n_estimators': 140, 'criterion': 'gini', 'max_depth': 16.20822844796883, 'min_samples_split': 0.488867740828299, 'max_features': 'auto'}. Best is trial 16 with value: 0.8814450292110821.\n",
            "[I 2020-08-15 11:18:42,509] Trial 49 finished with value: 0.7795939417195151 and parameters: {'n_estimators': 230, 'criterion': 'entropy', 'max_depth': 8.38930905095497, 'min_samples_split': 0.03843369623579623, 'max_features': 'log2'}. Best is trial 16 with value: 0.8814450292110821.\n",
            "[I 2020-08-15 11:19:05,468] Trial 50 finished with value: 0.7761598023565693 and parameters: {'n_estimators': 70, 'criterion': 'entropy', 'max_depth': 67.51665111314095, 'min_samples_split': 0.13666234374900818, 'max_features': 'auto'}. Best is trial 16 with value: 0.8814450292110821.\n",
            "[I 2020-08-15 11:22:59,851] Trial 51 finished with value: 0.8721717014275294 and parameters: {'n_estimators': 250, 'criterion': 'entropy', 'max_depth': 33.61687309712983, 'min_samples_split': 0.0010145185718272213, 'max_features': 'auto'}. Best is trial 16 with value: 0.8814450292110821.\n",
            "[I 2020-08-15 11:25:48,732] Trial 52 finished with value: 0.8455961050516032 and parameters: {'n_estimators': 250, 'criterion': 'entropy', 'max_depth': 44.732111405893086, 'min_samples_split': 0.01133019438731334, 'max_features': 'auto'}. Best is trial 16 with value: 0.8814450292110821.\n",
            "[I 2020-08-15 11:28:49,699] Trial 53 finished with value: 0.8695751631769222 and parameters: {'n_estimators': 200, 'criterion': 'entropy', 'max_depth': 36.86321107420657, 'min_samples_split': 0.0014407954662319876, 'max_features': 'auto'}. Best is trial 16 with value: 0.8814450292110821.\n",
            "[I 2020-08-15 11:30:28,526] Trial 54 finished with value: 0.8241536863734847 and parameters: {'n_estimators': 190, 'criterion': 'entropy', 'max_depth': 34.534476292888, 'min_samples_split': 0.038144007262431084, 'max_features': 'auto'}. Best is trial 16 with value: 0.8814450292110821.\n",
            "[I 2020-08-15 11:31:36,757] Trial 55 finished with value: 0.7991336793026826 and parameters: {'n_estimators': 170, 'criterion': 'entropy', 'max_depth': 40.20557849507871, 'min_samples_split': 0.08457017262153343, 'max_features': 'auto'}. Best is trial 16 with value: 0.8814450292110821.\n",
            "[I 2020-08-15 11:32:50,575] Trial 56 finished with value: 0.7744008208360904 and parameters: {'n_estimators': 250, 'criterion': 'entropy', 'max_depth': 29.738085394272705, 'min_samples_split': 0.17489917733141983, 'max_features': 'auto'}. Best is trial 16 with value: 0.8814450292110821.\n",
            "[I 2020-08-15 11:34:52,244] Trial 57 finished with value: 0.8301724609646293 and parameters: {'n_estimators': 220, 'criterion': 'entropy', 'max_depth': 58.21084277878304, 'min_samples_split': 0.03073821513632233, 'max_features': 'auto'}. Best is trial 16 with value: 0.8814450292110821.\n",
            "[I 2020-08-15 11:36:07,224] Trial 58 finished with value: 0.7897048290965646 and parameters: {'n_estimators': 200, 'criterion': 'entropy', 'max_depth': 48.369942817535694, 'min_samples_split': 0.1036822097441889, 'max_features': 'auto'}. Best is trial 16 with value: 0.8814450292110821.\n",
            "[I 2020-08-15 11:40:37,046] Trial 59 finished with value: 0.8691922792821867 and parameters: {'n_estimators': 290, 'criterion': 'entropy', 'max_depth': 126.4285719231726, 'min_samples_split': 0.0015110490516590718, 'max_features': 'auto'}. Best is trial 16 with value: 0.8814450292110821.\n",
            "[I 2020-08-15 11:42:53,327] Trial 60 finished with value: 0.8050088273352495 and parameters: {'n_estimators': 320, 'criterion': 'entropy', 'max_depth': 19.267729852003963, 'min_samples_split': 0.06958871547917467, 'max_features': 'auto'}. Best is trial 16 with value: 0.8814450292110821.\n",
            "[I 2020-08-15 11:47:23,977] Trial 61 finished with value: 0.8704486623387998 and parameters: {'n_estimators': 290, 'criterion': 'entropy', 'max_depth': 138.00955304447, 'min_samples_split': 0.0013603596721034547, 'max_features': 'auto'}. Best is trial 16 with value: 0.8814450292110821.\n",
            "[I 2020-08-15 11:51:40,055] Trial 62 finished with value: 0.8611753445770365 and parameters: {'n_estimators': 300, 'criterion': 'entropy', 'max_depth': 135.35219486888036, 'min_samples_split': 0.0030635472363627686, 'max_features': 'auto'}. Best is trial 16 with value: 0.8814450292110821.\n",
            "[I 2020-08-15 11:57:03,555] Trial 63 finished with value: 0.8852859601631582 and parameters: {'n_estimators': 290, 'criterion': 'entropy', 'max_depth': 175.9719831596934, 'min_samples_split': 0.00018730392427335858, 'max_features': 'auto'}. Best is trial 63 with value: 0.8852859601631582.\n",
            "[I 2020-08-15 12:00:09,625] Trial 64 finished with value: 0.8280066592213362 and parameters: {'n_estimators': 360, 'criterion': 'entropy', 'max_depth': 167.59807010230503, 'min_samples_split': 0.035927463996271, 'max_features': 'auto'}. Best is trial 63 with value: 0.8852859601631582.\n",
            "[I 2020-08-15 12:01:45,386] Trial 65 finished with value: 0.7774760269492216 and parameters: {'n_estimators': 280, 'criterion': 'entropy', 'max_depth': 118.10407531228321, 'min_samples_split': 0.12133734561957754, 'max_features': 'auto'}. Best is trial 63 with value: 0.8852859601631582.\n",
            "[I 2020-08-15 12:04:11,772] Trial 66 finished with value: 0.8011438483837272 and parameters: {'n_estimators': 370, 'criterion': 'entropy', 'max_depth': 185.33183226397398, 'min_samples_split': 0.08016326076453739, 'max_features': 'auto'}. Best is trial 63 with value: 0.8852859601631582.\n",
            "[I 2020-08-15 12:09:43,720] Trial 67 finished with value: 0.8773049449828102 and parameters: {'n_estimators': 330, 'criterion': 'entropy', 'max_depth': 143.75702084986898, 'min_samples_split': 0.0005816871893385973, 'max_features': 'auto'}. Best is trial 63 with value: 0.8852859601631582.\n",
            "[I 2020-08-15 12:12:30,967] Trial 68 finished with value: 0.825793017750622 and parameters: {'n_estimators': 330, 'criterion': 'entropy', 'max_depth': 195.9036374528685, 'min_samples_split': 0.03771201724454832, 'max_features': 'auto'}. Best is trial 63 with value: 0.8852859601631582.\n",
            "[I 2020-08-15 12:14:25,888] Trial 69 finished with value: 0.774604278908918 and parameters: {'n_estimators': 400, 'criterion': 'gini', 'max_depth': 159.73058155269356, 'min_samples_split': 0.163795520411893, 'max_features': 'auto'}. Best is trial 63 with value: 0.8852859601631582.\n",
            "[I 2020-08-15 12:15:36,841] Trial 70 finished with value: 0.7732761369770154 and parameters: {'n_estimators': 260, 'criterion': 'entropy', 'max_depth': 111.01747836398887, 'min_samples_split': 0.2013908043728335, 'max_features': 'auto'}. Best is trial 63 with value: 0.8852859601631582.\n",
            "[I 2020-08-15 12:19:50,918] Trial 71 finished with value: 0.8651119922077438 and parameters: {'n_estimators': 290, 'criterion': 'entropy', 'max_depth': 146.71525138260785, 'min_samples_split': 0.0021530174346601977, 'max_features': 'auto'}. Best is trial 63 with value: 0.8852859601631582.\n",
            "[I 2020-08-15 12:22:17,447] Trial 72 finished with value: 0.8165077525842401 and parameters: {'n_estimators': 320, 'criterion': 'entropy', 'max_depth': 91.40488616176346, 'min_samples_split': 0.05240521775297115, 'max_features': 'auto'}. Best is trial 63 with value: 0.8852859601631582.\n",
            "[I 2020-08-15 12:25:05,959] Trial 73 finished with value: 0.8322783624728313 and parameters: {'n_estimators': 300, 'criterion': 'entropy', 'max_depth': 81.09442717099446, 'min_samples_split': 0.028779558386100818, 'max_features': 'auto'}. Best is trial 63 with value: 0.8852859601631582.\n",
            "[I 2020-08-15 12:27:12,100] Trial 74 finished with value: 0.797099490855876 and parameters: {'n_estimators': 330, 'criterion': 'entropy', 'max_depth': 128.15001611576895, 'min_samples_split': 0.08900948578069502, 'max_features': 'auto'}. Best is trial 63 with value: 0.8852859601631582.\n",
            "[I 2020-08-15 12:28:29,663] Trial 75 finished with value: 0.7661445815492043 and parameters: {'n_estimators': 290, 'criterion': 'entropy', 'max_depth': 4.618018854470576, 'min_samples_split': 0.0037140264704371906, 'max_features': 'auto'}. Best is trial 63 with value: 0.8852859601631582.\n",
            "[I 2020-08-15 12:28:51,930] Trial 76 finished with value: 0.6288274910166828 and parameters: {'n_estimators': 260, 'criterion': 'entropy', 'max_depth': 178.70004372730384, 'min_samples_split': 0.6795723819603181, 'max_features': 'auto'}. Best is trial 63 with value: 0.8852859601631582.\n",
            "[I 2020-08-15 12:31:22,572] Trial 77 finished with value: 0.8085626311583788 and parameters: {'n_estimators': 350, 'criterion': 'entropy', 'max_depth': 148.82740488437693, 'min_samples_split': 0.06365920174740937, 'max_features': 'auto'}. Best is trial 63 with value: 0.8852859601631582.\n",
            "[I 2020-08-15 12:33:57,263] Trial 78 finished with value: 0.8284014991107952 and parameters: {'n_estimators': 310, 'criterion': 'entropy', 'max_depth': 23.340906034085116, 'min_samples_split': 0.022611811598897687, 'max_features': 'log2'}. Best is trial 63 with value: 0.8852859601631582.\n",
            "[I 2020-08-15 12:38:36,468] Trial 79 finished with value: 0.8797100255375238 and parameters: {'n_estimators': 270, 'criterion': 'entropy', 'max_depth': 100.14004479672214, 'min_samples_split': 0.0004019029114127414, 'max_features': 'auto'}. Best is trial 63 with value: 0.8852859601631582.\n",
            "[I 2020-08-15 12:39:57,788] Trial 80 finished with value: 0.7776315837322078 and parameters: {'n_estimators': 240, 'criterion': 'entropy', 'max_depth': 98.93795674905522, 'min_samples_split': 0.1213259015358577, 'max_features': 'auto'}. Best is trial 63 with value: 0.8852859601631582.\n",
            "[I 2020-08-15 12:44:00,672] Trial 81 finished with value: 0.8644060201404178 and parameters: {'n_estimators': 280, 'criterion': 'entropy', 'max_depth': 111.83563516245037, 'min_samples_split': 0.002187194095902526, 'max_features': 'auto'}. Best is trial 63 with value: 0.8852859601631582.\n",
            "[I 2020-08-15 12:46:16,212] Trial 82 finished with value: 0.813875240404831 and parameters: {'n_estimators': 300, 'criterion': 'entropy', 'max_depth': 134.5153856574468, 'min_samples_split': 0.05499910826951476, 'max_features': 'auto'}. Best is trial 63 with value: 0.8852859601631582.\n",
            "[I 2020-08-15 12:48:52,728] Trial 83 finished with value: 0.8360116565436572 and parameters: {'n_estimators': 270, 'criterion': 'entropy', 'max_depth': 71.18553830540043, 'min_samples_split': 0.023274135644640745, 'max_features': 'auto'}. Best is trial 63 with value: 0.8852859601631582.\n",
            "[I 2020-08-15 12:50:36,885] Trial 84 finished with value: 0.8023763294726823 and parameters: {'n_estimators': 260, 'criterion': 'entropy', 'max_depth': 29.892443955194757, 'min_samples_split': 0.07780056653227918, 'max_features': 'auto'}. Best is trial 63 with value: 0.8852859601631582.\n",
            "[I 2020-08-15 12:53:11,134] Trial 85 finished with value: 0.8208273170384193 and parameters: {'n_estimators': 320, 'criterion': 'entropy', 'max_depth': 26.601723605656993, 'min_samples_split': 0.04536024434496834, 'max_features': 'auto'}. Best is trial 63 with value: 0.8852859601631582.\n",
            "[I 2020-08-15 12:55:28,674] Trial 86 finished with value: 0.8354013782480154 and parameters: {'n_estimators': 240, 'criterion': 'entropy', 'max_depth': 17.30361767655445, 'min_samples_split': 0.02213238720440241, 'max_features': 'auto'}. Best is trial 63 with value: 0.8852859601631582.\n",
            "[I 2020-08-15 13:00:36,861] Trial 87 finished with value: 0.8688212998415441 and parameters: {'n_estimators': 340, 'criterion': 'entropy', 'max_depth': 173.5062247860195, 'min_samples_split': 0.0015899687318402995, 'max_features': 'auto'}. Best is trial 63 with value: 0.8852859601631582.\n",
            "[I 2020-08-15 13:01:16,557] Trial 88 finished with value: 0.7383003726702596 and parameters: {'n_estimators': 290, 'criterion': 'gini', 'max_depth': 139.39858288480156, 'min_samples_split': 0.5585163037665679, 'max_features': 'auto'}. Best is trial 63 with value: 0.8852859601631582.\n",
            "[I 2020-08-15 13:02:04,306] Trial 89 finished with value: 0.7887595853762392 and parameters: {'n_estimators': 130, 'criterion': 'entropy', 'max_depth': 122.30028435273782, 'min_samples_split': 0.10256144061020522, 'max_features': 'auto'}. Best is trial 63 with value: 0.8852859601631582.\n",
            "[I 2020-08-15 13:03:58,032] Trial 90 finished with value: 0.8060977190894156 and parameters: {'n_estimators': 270, 'criterion': 'entropy', 'max_depth': 35.51928142898305, 'min_samples_split': 0.06769945688040101, 'max_features': 'auto'}. Best is trial 63 with value: 0.8852859601631582.\n",
            "[I 2020-08-15 13:09:29,412] Trial 91 finished with value: 0.875342588427187 and parameters: {'n_estimators': 340, 'criterion': 'entropy', 'max_depth': 176.68264482630994, 'min_samples_split': 0.000758888580323081, 'max_features': 'auto'}. Best is trial 63 with value: 0.8852859601631582.\n",
            "[I 2020-08-15 13:12:53,369] Trial 92 finished with value: 0.8376030837675847 and parameters: {'n_estimators': 340, 'criterion': 'entropy', 'max_depth': 156.8382145289705, 'min_samples_split': 0.020056252996249534, 'max_features': 'auto'}. Best is trial 63 with value: 0.8852859601631582.\n",
            "[I 2020-08-15 13:15:56,608] Trial 93 finished with value: 0.821425579208601 and parameters: {'n_estimators': 380, 'criterion': 'entropy', 'max_depth': 104.63748298286569, 'min_samples_split': 0.04488689492262282, 'max_features': 'auto'}. Best is trial 63 with value: 0.8852859601631582.\n",
            "[I 2020-08-15 13:19:05,575] Trial 94 finished with value: 0.8382133277028057 and parameters: {'n_estimators': 310, 'criterion': 'entropy', 'max_depth': 89.23164981896011, 'min_samples_split': 0.019864169507883583, 'max_features': 'auto'}. Best is trial 63 with value: 0.8852859601631582.\n",
            "[I 2020-08-15 13:22:13,113] Trial 95 finished with value: 0.8471995111772014 and parameters: {'n_estimators': 280, 'criterion': 'entropy', 'max_depth': 13.849838934531984, 'min_samples_split': 0.0025870307460868075, 'max_features': 'auto'}. Best is trial 63 with value: 0.8852859601631582.\n",
            "[I 2020-08-15 13:23:48,362] Trial 96 finished with value: 0.7968842027765339 and parameters: {'n_estimators': 250, 'criterion': 'entropy', 'max_depth': 63.02734435909804, 'min_samples_split': 0.09130686961372558, 'max_features': 'auto'}. Best is trial 63 with value: 0.8852859601631582.\n",
            "[I 2020-08-15 13:24:36,672] Trial 97 finished with value: 0.8196547419112921 and parameters: {'n_estimators': 100, 'criterion': 'entropy', 'max_depth': 41.6923498106088, 'min_samples_split': 0.04678121562374382, 'max_features': 'auto'}. Best is trial 63 with value: 0.8852859601631582.\n",
            "[I 2020-08-15 13:26:47,914] Trial 98 finished with value: 0.7956876183054339 and parameters: {'n_estimators': 360, 'criterion': 'entropy', 'max_depth': 195.48702882740034, 'min_samples_split': 0.06995013538928589, 'max_features': 'log2'}. Best is trial 63 with value: 0.8852859601631582.\n",
            "[I 2020-08-15 13:27:51,895] Trial 99 finished with value: 0.7757769012816237 and parameters: {'n_estimators': 200, 'criterion': 'entropy', 'max_depth': 122.83421327955057, 'min_samples_split': 0.14729072580198416, 'max_features': 'auto'}. Best is trial 63 with value: 0.8852859601631582.\n"
          ],
          "name": "stderr"
        },
        {
          "output_type": "stream",
          "text": [
            "Accuracy: 0.8852859601631582\n",
            "Best hyperparameters: {'n_estimators': 290, 'criterion': 'entropy', 'max_depth': 175.9719831596934, 'min_samples_split': 0.00018730392427335858, 'max_features': 'auto'}\n"
          ],
          "name": "stdout"
        }
      ]
    },
    {
      "cell_type": "code",
      "metadata": {
        "id": "dMFIbM2wMtVM",
        "colab_type": "code",
        "colab": {
          "base_uri": "https://localhost:8080/",
          "height": 204
        },
        "outputId": "7174feba-8879-4461-a028-0de6a8a14813"
      },
      "source": [
        "best_params = {'n_estimators': 290, 'criterion': 'entropy', 'max_depth': 175.9719831596934, 'min_samples_split': 0.00018730392427335858, 'max_features': 'auto'}\n",
        "\n",
        "model = RandomForestClassifier(n_estimators = 290, criterion = 'entropy', max_depth = 175.9719831596934, min_samples_split = 0.00018730392427335858, max_features = 'auto',n_jobs=-1).fit(X_train,y_train)\n",
        "print(classification_report(y_test,model.predict(X_test)))\n",
        "print(confusion_matrix(y_test,model.predict(X_test)))\n"
      ],
      "execution_count": 34,
      "outputs": [
        {
          "output_type": "stream",
          "text": [
            "              precision    recall  f1-score   support\n",
            "\n",
            "           0       0.89      0.94      0.91     22613\n",
            "           1       0.88      0.80      0.84     13204\n",
            "\n",
            "    accuracy                           0.89     35817\n",
            "   macro avg       0.89      0.87      0.88     35817\n",
            "weighted avg       0.89      0.89      0.89     35817\n",
            "\n",
            "[[21193  1420]\n",
            " [ 2627 10577]]\n"
          ],
          "name": "stdout"
        }
      ]
    },
    {
      "cell_type": "code",
      "metadata": {
        "id": "oeTqghJAW1CQ",
        "colab_type": "code",
        "colab": {}
      },
      "source": [
        "# We are getting an overall accuray of 89% on the test set and 88.5% on the cross validation set.\n",
        "# Therefore this model works quite well and generalizes well --- Low bias and variance."
      ],
      "execution_count": null,
      "outputs": []
    }
  ]
}